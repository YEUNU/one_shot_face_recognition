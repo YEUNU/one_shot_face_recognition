{
 "cells": [
  {
   "cell_type": "code",
   "execution_count": 1,
   "metadata": {},
   "outputs": [],
   "source": [
    "import os\n",
    "import pandas as pd\n",
    "from itertools import combinations\n",
    "from collections import defaultdict\n",
    "import json\n",
    "import shutil"
   ]
  },
  {
   "cell_type": "code",
   "execution_count": 2,
   "metadata": {},
   "outputs": [],
   "source": [
    "data_root = \"lfw-deepfunneled\"\n",
    "names = os.listdir(\"lfw-deepfunneled\")"
   ]
  },
  {
   "cell_type": "code",
   "execution_count": 3,
   "metadata": {},
   "outputs": [],
   "source": [
    "df = pd.DataFrame()\n",
    "df[\"name\"] = []\n",
    "df[\"count\"] = []\n",
    "\n",
    "for name in sorted(names):\n",
    "    data_path = os.path.join(data_root, name)\n",
    "    if os.path.isdir(data_path):\n",
    "        lens = len(os.listdir(data_path))\n",
    "        tmp_df = pd.DataFrame()\n",
    "        tmp_df[\"name\"] = [name]\n",
    "        tmp_df[\"count\"] = [int(lens)]\n",
    "        df = pd.concat([df, tmp_df], ignore_index=True)"
   ]
  },
  {
   "cell_type": "code",
   "execution_count": 4,
   "metadata": {},
   "outputs": [],
   "source": [
    "# 학습용 2개\n",
    "# 테스트용 1개"
   ]
  },
  {
   "cell_type": "code",
   "execution_count": 5,
   "metadata": {},
   "outputs": [],
   "source": [
    "df_over3 = df[df[\"count\"] >= 3]"
   ]
  },
  {
   "cell_type": "code",
   "execution_count": 15,
   "metadata": {},
   "outputs": [],
   "source": [
    "train_list = []\n",
    "val_dic = defaultdict(list)\n",
    "train_dic = defaultdict(list)\n",
    "\n",
    "for name in df_over3[\"name\"]:\n",
    "    data_path = os.path.join(data_root, name)\n",
    "    files = [os.path.join(data_path, i) for i in sorted(os.listdir(data_path))]\n",
    "    val_dic[\"label\"].append(name)\n",
    "    val_dic[\"file\"].append(files.pop())\n",
    "    train_list.extend(files)\n",
    "\n",
    "train_combs = list(combinations(train_list,2))\n",
    "\n",
    "for comb in train_combs:\n",
    "    f1, f2 = comb\n",
    "    train_dic[\"file1\"].append(f1)\n",
    "    train_dic[\"file2\"].append(f2)\n"
   ]
  },
  {
   "cell_type": "code",
   "execution_count": 17,
   "metadata": {},
   "outputs": [],
   "source": [
    "df_train = pd.DataFrame.from_dict(train_dic)\n",
    "df_val = pd.DataFrame.from_dict(val_dic)"
   ]
  },
  {
   "cell_type": "code",
   "execution_count": 19,
   "metadata": {},
   "outputs": [],
   "source": [
    "df_train.to_csv(\"dataset_train_receipt.csv\",index=False)"
   ]
  },
  {
   "cell_type": "code",
   "execution_count": 18,
   "metadata": {},
   "outputs": [],
   "source": [
    "df_val.to_csv(\"dataset_val_receipt.csv\",index=False)"
   ]
  },
  {
   "cell_type": "code",
   "execution_count": null,
   "metadata": {},
   "outputs": [],
   "source": [
    "label2idx = {}\n",
    "for idx, name in enumerate(df_val[\"label\"].unique()):\n",
    "    label2idx[name] = idx\n",
    "\n",
    "with open(\"label2idx.json\", \"w\") as f:\n",
    "    json.dump(label2idx, f)"
   ]
  },
  {
   "cell_type": "code",
   "execution_count": null,
   "metadata": {},
   "outputs": [],
   "source": []
  }
 ],
 "metadata": {
  "kernelspec": {
   "display_name": "torch",
   "language": "python",
   "name": "python3"
  },
  "language_info": {
   "codemirror_mode": {
    "name": "ipython",
    "version": 3
   },
   "file_extension": ".py",
   "mimetype": "text/x-python",
   "name": "python",
   "nbconvert_exporter": "python",
   "pygments_lexer": "ipython3",
   "version": "3.11.7"
  }
 },
 "nbformat": 4,
 "nbformat_minor": 2
}
