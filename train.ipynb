{
 "cells": [
  {
   "cell_type": "code",
   "execution_count": 26,
   "metadata": {},
   "outputs": [],
   "source": [
    "import pandas as pd\n",
    "import torch\n",
    "from PIL import Image\n",
    "import torch.nn as nn\n",
    "import torch.optim as optim\n",
    "from torch.utils.data import DataLoader, Dataset\n",
    "from torchvision import transforms\n",
    "import numpy as np\n",
    "import json"
   ]
  },
  {
   "cell_type": "code",
   "execution_count": 28,
   "metadata": {},
   "outputs": [
    {
     "data": {
      "text/plain": [
       "(250, 250)"
      ]
     },
     "execution_count": 28,
     "metadata": {},
     "output_type": "execute_result"
    }
   ],
   "source": [
    "Image.open(\"lfw-deepfunneled/Aaron_Eckhart/Aaron_Eckhart_0001.jpg\").size"
   ]
  },
  {
   "cell_type": "code",
   "execution_count": 19,
   "metadata": {},
   "outputs": [],
   "source": [
    "df_train = pd.read_csv(\"dataset_train_receipt.csv\")\n",
    "df_val = pd.read_csv(\"dataset_val_receipt.csv\")\n",
    "with open('label2idx.json') as f:\n",
    "    label2idx = json.load(f)"
   ]
  },
  {
   "cell_type": "code",
   "execution_count": null,
   "metadata": {},
   "outputs": [],
   "source": [
    "class SiameseDataset(Dataset):\n",
    "    def __init__(self, df, label2idx, is_train:bool):\n",
    "        self.df = df.values\n",
    "        self.label2idx = label2idx\n",
    "        self.is_train = is_train\n",
    "        self.resize = transforms.Resize((224,224))\n",
    "        \n",
    "    def transform(self, x):\n",
    "        x = Image.open(x)\n",
    "        x = self.resize(x)\n",
    "        return x\n",
    "        \n",
    "    def __getitem__(self, index):\n",
    "        label, img1, img2 = self.df[index]\n",
    "        if self.is_train:\n",
    "            img1 = self.transform(img1)\n",
    "            img2 = self.transform(img2)\n",
    "        return img1, img2, torch.from_numpy(np.array(self.label2idx[label], dtype=np.float32))\n",
    "\n",
    "    def __len__(self):\n",
    "        return len(self.df)"
   ]
  },
  {
   "cell_type": "code",
   "execution_count": null,
   "metadata": {},
   "outputs": [],
   "source": [
    "\n",
    "\n",
    "# Siamese Network 모델 정의\n",
    "class SiameseNetwork(nn.Module):\n",
    "    def __init__(self):\n",
    "        super(SiameseNetwork, self).__init__()\n",
    "        self.convolution = nn.Sequential(\n",
    "            nn.Conv2d(1, 64, kernel_size=10),\n",
    "            nn.ReLU(inplace=True),\n",
    "            nn.MaxPool2d(2),\n",
    "            nn.Conv2d(64, 128, kernel_size=7),\n",
    "            nn.ReLU(inplace=True),\n",
    "            nn.MaxPool2d(2)\n",
    "        )\n",
    "        self.fc = nn.Sequential(\n",
    "            nn.Linear(128 * 53 * 53, 500),\n",
    "            nn.ReLU(inplace=True),\n",
    "            nn.Linear(500, 500),\n",
    "            nn.ReLU(inplace=True),\n",
    "            nn.Linear(500, 5)  # 5-dimensional representation\n",
    "        )\n",
    "\n",
    "    def forward_one(self, x):\n",
    "        x = self.convolution(x)\n",
    "        x = x.view(x.size()[0], -1)\n",
    "        x = self.fc(x)\n",
    "        return x\n",
    "\n",
    "    def forward(self, input1, input2):\n",
    "        output1 = self.forward_one(input1)\n",
    "        output2 = self.forward_one(input2)\n",
    "        return output1, output2\n",
    "\n",
    "# 이미지 데이터셋을 위한 클래스 정의\n",
    "\n",
    "\n",
    "# Siamese Network 학습\n",
    "def train_siamese_network(model, dataloader, criterion, optimizer, num_epochs=10):\n",
    "    model.train()\n",
    "    for epoch in range(num_epochs):\n",
    "        for img1, img2, label in dataloader:\n",
    "            optimizer.zero_grad()\n",
    "            output1, output2 = model(img1, img2)\n",
    "            loss = criterion(output1, output2, label)\n",
    "            loss.backward()\n",
    "            optimizer.step()\n",
    "        print(f'Epoch [{epoch+1}/{num_epochs}], Loss: {loss.item()}')\n",
    "\n",
    "# Siamese Network의 Contrastive Loss 정의\n",
    "class ContrastiveLoss(nn.Module):\n",
    "    def __init__(self, margin=2.0):\n",
    "        super(ContrastiveLoss, self).__init__()\n",
    "        self.margin = margin\n",
    "\n",
    "    def forward(self, output1, output2, label):\n",
    "        euclidean_distance = F.pairwise_distance(output1, output2)\n",
    "        loss_contrastive = torch.mean((1-label) * torch.pow(euclidean_distance, 2) +\n",
    "                                      (label) * torch.pow(torch.clamp(self.margin - euclidean_distance, min=0.0), 2))\n",
    "        return loss_contrastive\n",
    "\n",
    "# 데이터셋과 DataLoader 설정\n",
    "# (이 부분은 실제 데이터셋과 맞게 수정해야 합니다.)\n",
    "transform = transforms.Compose([transforms.ToTensor()])\n",
    "dataset = SiameseDataset(data, transform=transform)\n",
    "dataloader = DataLoader(dataset, shuffle=True, batch_size=64)\n",
    "\n",
    "# Siamese Network 및 학습 관련 설정\n",
    "siamese_net = SiameseNetwork()\n",
    "criterion = ContrastiveLoss()\n",
    "optimizer = optim.Adam(siamese_net.parameters(), lr=0.0005)\n",
    "\n",
    "# Siamese Network 학습\n",
    "train_siamese_network(siamese_net, dataloader, criterion, optimizer, num_epochs=10)\n",
    "\n",
    "# 데이터 임베딩 추출\n",
    "embeddings = []\n",
    "labels = []\n",
    "siamese_net.eval()\n",
    "with torch.no_grad():\n",
    "    for img, _, label in dataloader:\n",
    "        output = siamese_net.forward_one(img)\n",
    "        embeddings.append(output.numpy())\n",
    "        labels.append(label.numpy())\n",
    "\n",
    "embeddings = np.concatenate(embeddings)\n",
    "labels = np.concatenate(labels)\n",
    "\n",
    "# K-Means 클러스터링 수행\n",
    "kmeans = KMeans(n_clusters=3)  # 클러스터의 개수는 데이터셋에 따라 적절하게 수정\n",
    "clusters = kmeans.fit_predict(embeddings)\n",
    "\n",
    "# 클러스터 결과 출력\n",
    "print(\"Cluster Assignments:\")\n",
    "print(clusters)\n"
   ]
  }
 ],
 "metadata": {
  "kernelspec": {
   "display_name": "torch",
   "language": "python",
   "name": "python3"
  },
  "language_info": {
   "codemirror_mode": {
    "name": "ipython",
    "version": 3
   },
   "file_extension": ".py",
   "mimetype": "text/x-python",
   "name": "python",
   "nbconvert_exporter": "python",
   "pygments_lexer": "ipython3",
   "version": "3.11.7"
  }
 },
 "nbformat": 4,
 "nbformat_minor": 2
}
